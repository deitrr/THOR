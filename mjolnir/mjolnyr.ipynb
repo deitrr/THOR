{
 "cells": [
  {
   "cell_type": "code",
   "execution_count": null,
   "metadata": {},
   "outputs": [],
   "source": [
    "# All configs\n",
    "\n",
    "# path to dataset\n",
    "\n",
    "data_path = \"../../thor-data/w43_r5_ni_c1em18_Tm1530_A1p4e6_P12e7/\"\n",
    "\n",
    "\n",
    "\n",
    "# if continuing a simulation, from another directory, THOR does not output grid and planet file. \n",
    "# set to empty string ( a.k.a. \"\" ) to use same dir as datapath, set to path of original sim to reuse original\n",
    "#continue_from = \"../../thor-data/experiments/ubelix/mclmn/wasp43b_tsrt/\"\n",
    "continue_from = \"\"\n",
    "\n",
    "# path to mjolnir from execution directory, used if ran in another folder, e.g. with 'muninn' script\n",
    "mjolnir_path = \"./\"\n",
    "\n",
    "# figure base size in inches\n",
    "FIGSIZE_x = 15\n",
    "FIGSIZE_y = 12\n",
    "\n",
    "# dots per inch resolution to use to compute figure size\n",
    "dpi = 96\n",
    "\n",
    "# video size in pixels\n",
    "VIDEO_x = 1280\n",
    "VIDEO_DISPLAY_x = 800\n",
    "\n",
    "# generate plots needing regridding (slow)\n",
    "regrided_plots = True\n",
    "\n",
    "# generate movies (slow)\n",
    "movies = False\n",
    "\n",
    "# generate quadruple plots (initial, first output, middle of time, last output)\n",
    "quad_plots = True\n",
    "\n",
    "# generate big single plot of last output or selected index\n",
    "single_plot = True\n",
    "\n",
    "# for single plot generation, plot last output\n",
    "plot_last = True\n",
    "\n",
    "# if not plot last output, plot this index\n",
    "plot_index = 593\n",
    "\n",
    "# plot spectrum of outgoing flux at TOA\n",
    "plot_spectrum = False\n",
    "\n",
    "# plot w0 and g0 plots, need to be in output file to work\n",
    "plot_w0_g0 = False\n",
    "\n",
    "# plot some diagnostics from diagnostics txt file (needs pandas)\n",
    "plot_diagnostics = True\n",
    "\n",
    "# plot some global values from global txt file (needs pandas)\n",
    "plot_globals = True\n",
    "\n",
    "output_path = \"\"\n",
    "\n",
    "\n"
   ]
  },
  {
   "cell_type": "code",
   "execution_count": null,
   "metadata": {},
   "outputs": [],
   "source": [
    "# path to mjolnir code\n",
    "import sys\n",
    "sys.path.append(mjolnir_path) \n",
    "\n",
    "import pathlib\n",
    "import re\n",
    "\n",
    "import h5py\n",
    "import imageio\n",
    "import IPython.display as disp\n",
    "\n",
    "import math\n",
    "\n",
    "#%matplotlib notebook\n",
    "%matplotlib inline\n",
    "import matplotlib.pyplot as plt\n",
    "import numpy as np\n",
    "from PIL import Image, ImageDraw, ImageFont, ImageOps\n",
    "from matplotlib.backends.backend_agg import FigureCanvasAgg\n",
    "# from pygifsicle import optimize\n",
    "\n",
    "import hamarr as ham\n",
    "from mjolnir_plot_helper import make_plot\n",
    "from file_helpers import get_path_matching_regex, get_path_matching_regex_with_groups\n",
    "\n",
    "from datetime import datetime\n",
    "\n",
    "import copy\n",
    "\n",
    "if plot_diagnostics or plot_globals:\n",
    "    import pandas as pd"
   ]
  },
  {
   "cell_type": "code",
   "execution_count": null,
   "metadata": {},
   "outputs": [],
   "source": [
    "start = datetime.now()"
   ]
  },
  {
   "cell_type": "code",
   "execution_count": null,
   "metadata": {},
   "outputs": [],
   "source": [
    "\n",
    "if output_path != \"\":\n",
    "    output_path = pathlib.Path(output_path)\n",
    "else:\n",
    "    output_path = pathlib.Path(data_path) / f\"report/\"\n",
    "    "
   ]
  },
  {
   "cell_type": "code",
   "execution_count": null,
   "metadata": {},
   "outputs": [],
   "source": [
    "exp_path = pathlib.Path(data_path) \n",
    "\n",
    "if continue_from == \"\":\n",
    "    planet_path = pathlib.Path(data_path) \n",
    "    grid_path = pathlib.Path(data_path) \n",
    "else:\n",
    "    planet_path = pathlib.Path(continue_from) \n",
    "    grid_path = pathlib.Path(continue_from) \n",
    "    \n",
    "FIGSIZE = (FIGSIZE_x, FIGSIZE_y)\n",
    "\n"
   ]
  },
  {
   "cell_type": "code",
   "execution_count": null,
   "metadata": {},
   "outputs": [],
   "source": [
    "# get planet file\n",
    "\n",
    "planet_files = get_path_matching_regex_with_groups(\n",
    "    planet_path, f\"esp_output_planet_(.+).h5\"\n",
    ")\n",
    "\n",
    "if len(planet_files) == 1:\n",
    "    planet_name = planet_files[0]['groups'][0] \n",
    "    planet_file = planet_files[0]['path']\n",
    "    \n",
    "    print(f\"Found planet name '{planet_name}' in {planet_path}\")\n",
    "else:\n",
    "    raise Exception(f\"Error looking for single planet files in {planet_path}. Found: {planet_files}\")"
   ]
  },
  {
   "cell_type": "code",
   "execution_count": null,
   "metadata": {},
   "outputs": [],
   "source": [
    "# get grid file\n",
    "\n",
    "grid_files = get_path_matching_regex_with_groups(\n",
    "    grid_path, f\"esp_output_grid_(.+).h5\"\n",
    ")\n",
    "\n",
    "if len(grid_files) == 1:\n",
    "    planet_g_name = grid_files[0]['groups'][0] \n",
    "    grid_file = grid_files[0]['path']\n",
    "    \n",
    "    print(f\"Found grid file '{grid_file}' in {grid_path}\")\n",
    "else:\n",
    "    raise Exception(\"Error looking for single grid files. Found: {grid_files} in {grid_path}\")"
   ]
  },
  {
   "cell_type": "code",
   "execution_count": null,
   "metadata": {},
   "outputs": [],
   "source": [
    "# get diagnostics file\n",
    "\n",
    "diagnostics_files = get_path_matching_regex_with_groups(\n",
    "    exp_path, f\"esp_diagnostics_(.+).txt\"\n",
    ")\n",
    "\n",
    "if len(diagnostics_files) == 1:\n",
    "    planet_d_name = diagnostics_files[0]['groups'][0] \n",
    "    diagnostics_file = diagnostics_files[0]['path']\n",
    "    \n",
    "    print(f\"Found diagnostics file '{diagnostics_file}'\")\n",
    "else:\n",
    "    raise Exception(\"Error looking for single diagnostics files. Found:\", diagnostics_files)"
   ]
  },
  {
   "cell_type": "code",
   "execution_count": null,
   "metadata": {},
   "outputs": [],
   "source": [
    "# get globals file\n",
    "\n",
    "globals_files = get_path_matching_regex_with_groups(\n",
    "    exp_path, f\"esp_global_(.+).txt\"\n",
    ")\n",
    "\n",
    "if len(globals_files) == 1:\n",
    "    planet_glb_name = globals_files[0]['groups'][0] \n",
    "    globals_file = globals_files[0]['path']\n",
    "    \n",
    "    print(f\"Found globals file '{globals_file}'\")\n",
    "else:\n",
    "    raise Exception(\"Error looking for single globals files. Found:\", globals_files)"
   ]
  },
  {
   "cell_type": "code",
   "execution_count": null,
   "metadata": {},
   "outputs": [],
   "source": [
    "print()\n",
    "print(\"Planet Parameters\")\n",
    "print(\"=================\")\n",
    "print()\n",
    "\n",
    "with h5py.File(planet_file, 'r') as p:\n",
    "    for k in p.keys():\n",
    "        print(f\"{k:<30}: {str(p[k][...]):>15}\")\n",
    "    \n",
    "    has_TSRT = \"two_streams_radiative_transfer\" in p and p['two_streams_radiative_transfer'][0] == 1.0\n",
    "    has_RT = \"radiative_transfer\" in p and p['radiative_transfer'][0] == 1.0\n",
    "    \n",
    "    print()\n",
    "    print(\"Modules\")\n",
    "    print(\"-------\")\n",
    "    print()\n",
    "    print(f\"Radiative transfer: {has_RT}\")\n",
    "    print(f\"Two stream radiative transfer: {has_TSRT}\")"
   ]
  },
  {
   "cell_type": "code",
   "execution_count": null,
   "metadata": {},
   "outputs": [],
   "source": [
    "print()\n",
    "print(\"Grid Parameters\")\n",
    "print(\"===============\")\n",
    "print()\n",
    "\n",
    "with h5py.File(grid_file, 'r') as g:\n",
    "    # print(g.keys())\n",
    "              \n",
    "    #for k in g.keys():\n",
    "    #    print(f\"{k:<30}: {str(g[k][...]):>15}\")\n",
    "    print(f\"{'nv':<30}: {str(g['nv'][...]):>15}\" )\n",
    "    print(f\"{'point_num':<30}: {str(g['point_num'][...]):>15}\" )\n",
    "    \n",
    "    nv = int(g['nv'][0])"
   ]
  },
  {
   "cell_type": "code",
   "execution_count": null,
   "metadata": {},
   "outputs": [],
   "source": [
    "# get count of output files\n",
    "outputs = get_path_matching_regex_with_groups(\n",
    "    exp_path, f\"esp_output_{planet_name}_(\\d+).h5\"\n",
    ")\n",
    "\n",
    "# sort'em\n",
    "d = {}\n",
    "\n",
    "for o in outputs:\n",
    "    p = o[\"path\"]\n",
    "    (idx_chr,) = o[\"groups\"]\n",
    "    idx = int(idx_chr)\n",
    "    # print(f\"{idx} - {p}\")\n",
    "    d[idx] = p\n",
    "\n",
    "sorted_files = sorted(d.items())\n",
    "\n",
    "\n",
    "first_idx = sorted_files[0][0]\n",
    "last_idx = sorted_files[-2][0]\n",
    "#last_idx = 20\n",
    "\n",
    "print()\n",
    "print(\"Output files\")\n",
    "print(\"============\")\n",
    "print()\n",
    "\n",
    "print(f\"First index: {first_idx}\")\n",
    "print(f\"Last index: {last_idx}\")\n",
    "\n",
    "print()\n",
    "print(\"Plotting\")\n",
    "print(\"========\")\n",
    "print()\n",
    "print(f\"Plot quad: {quad_plots}\")\n",
    "print(f\"Plot single plot: {single_plot}\")\n",
    "print(f\"Plot last: {plot_last}\")\n",
    "\n",
    "if plot_last:\n",
    "    plot_index = last_idx\n",
    "print(f\"plot_index: {plot_index}\" )\n"
   ]
  },
  {
   "cell_type": "code",
   "execution_count": null,
   "metadata": {},
   "outputs": [],
   "source": [
    "class args:\n",
    "    pass\n",
    "\n",
    "\n",
    "file_idx = 1\n",
    "\n",
    "args.pview = [\"fuptot\"]\n",
    "args.file = [str(exp_path)]\n",
    "args.simulation_ID = [planet_name]\n",
    "args.initial_file = [file_idx]\n",
    "args.last_file = [file_idx]\n",
    "args.horizontal_lev = [2.5e2]\n",
    "args.vertical_top = [\"default\"]\n",
    "args.split_layer = [\"no_split\"]\n",
    "args.coordinate_sys = [\"icoh\"]\n",
    "args.lmax_adjust = [0]\n",
    "args.slice = [0, 180]\n",
    "args.maketable = False\n",
    "args.no_pressure_log = False\n",
    "args.latlonswap = False\n",
    "args.vcoord = [\"pressure\"]\n",
    "#args.vcoord = [\"height\"]\n",
    "#args.pgrid_ref = [f\"pgrid_{file_idx}_{file_idx}_1.txt\"]\n",
    "args.pgrid_ref = [\"auto\"]\n",
    "args.clevels = [40]"
   ]
  },
  {
   "cell_type": "code",
   "execution_count": null,
   "metadata": {},
   "outputs": [],
   "source": [
    "figures_dir = exp_path / \"figures\"\n",
    "if not figures_dir.exists():\n",
    "    figures_dir.mkdir(parents=True, exist_ok=True)\n",
    "    \n",
    "if not output_path.exists():\n",
    "    output_path.mkdir(parents=True, exist_ok=True)"
   ]
  },
  {
   "cell_type": "code",
   "execution_count": null,
   "metadata": {},
   "outputs": [],
   "source": [
    "class multi_plotter:\n",
    "    \"\"\"Plotting class to manage multiple plots at individual times over dataset.\"\"\"\n",
    "    def __init__(self, args):\n",
    "        self.args = args\n",
    "    \n",
    "    def plot_steps(self, plot_type, first_idx, last_idx, override_args={}):\n",
    "        \n",
    "        args = copy.deepcopy(self.args)\n",
    "        for k, v in override_args.items():\n",
    "            if hasattr(args, k):\n",
    "                setattr(args, k, v)\n",
    "        args.pview = [plot_type]\n",
    "                \n",
    "        fig = plt.Figure(figsize=FIGSIZE, dpi=dpi)\n",
    "        ((ax_first, ax_last), (ax_second, ax_mid)) = fig.subplots(2,2)\n",
    "\n",
    "        i = first_idx\n",
    "        args.initial_file = [i]\n",
    "        args.last_file = [i]\n",
    "        make_plot(args, False, axis=(fig, ax_first))\n",
    "        ttl = ax_first.get_title()\n",
    "        ax_first.set_title(ttl + \"\\n\" + f\"Initial (idx={i})\")\n",
    "\n",
    "        i = last_idx\n",
    "        args.initial_file = [i]\n",
    "        args.last_file = [i]\n",
    "        make_plot(args, False, axis=(fig, ax_last))\n",
    "        ttl = ax_last.get_title()\n",
    "        ax_last.set_title(ttl + \"\\n\" + f\"Last (idx={i})\")\n",
    "\n",
    "        i = first_idx + 1\n",
    "        args.initial_file = [i]\n",
    "        args.last_file = [i]\n",
    "        make_plot(args, False, axis=(fig, ax_second))\n",
    "        ttl = ax_second.get_title()\n",
    "        ax_second.set_title(ttl + \"\\n\" + f\"First step (idx={i})\")\n",
    "\n",
    "        i = (last_idx + first_idx) // 2\n",
    "        args.initial_file = [i]\n",
    "        args.last_file = [i]\n",
    "        make_plot(args, False, axis=(fig, ax_mid))\n",
    "        ttl = ax_mid.get_title()\n",
    "        ax_mid.set_title(ttl + \"\\n\" + f\"Middle step (idx={i})\")\n",
    "    \n",
    "        return fig\n",
    "    \n",
    "    def plot_single(self, plot_type, plot_idx, override_args={}):\n",
    "        fig = plt.Figure(figsize=(FIGSIZE_x, FIGSIZE_y), dpi=dpi)\n",
    "        ax = fig.subplots(1,1)\n",
    "\n",
    "        args = copy.deepcopy(self.args)\n",
    "        for k, v in override_args.items():\n",
    "            if hasattr(args, k):\n",
    "                setattr(args, k, v)\n",
    "        args.pview = [plot_type]\n",
    "        args.initial_file = [plot_idx]\n",
    "        args.last_file = [plot_idx]\n",
    "        \n",
    "        make_plot(args, False, axis=(fig, ax))\n",
    "  \n",
    "        ttl = ax.get_title()\n",
    "        ax.set_title(ttl + \"\\n\" + f\"idx={plot_idx}\")\n",
    "        \n",
    "        return fig\n",
    "    \n",
    "    def plot_single_band(self, plot_type, plot_idx, override_args={}):\n",
    "        fig = plt.Figure(figsize=(4*FIGSIZE_x, 4*FIGSIZE_y), dpi=dpi)\n",
    "    \n",
    "        args = copy.deepcopy(self.args)\n",
    "        for k, v in override_args.items():\n",
    "            if hasattr(args, k):\n",
    "                setattr(args, k, v)\n",
    "                \n",
    "        args.pview = [plot_type]\n",
    "                \n",
    "        args.initial_file = [plot_idx]\n",
    "        args.last_file = [plot_idx]\n",
    "        make_plot(args, False, axis=(fig,))\n",
    "        \n",
    "        return fig\n",
    "    \n",
    "    \n",
    "    def plot_anim_steps(self, plot_type, first_idx, last_idx, plot_filename, overwrite_anim=False, override_args={}):\n",
    "        \"\"\"Make a movie using args for mjolnir plotting functions, run over all the indexed files\"\"\"\n",
    "        stride = 1\n",
    "        overwrite = False\n",
    "        output_anim_file = output_path / plot_filename\n",
    "\n",
    "        if output_anim_file.exists() and not overwrite_anim:\n",
    "            print(\n",
    "                f\"{output_anim_file} already exists, skipping. Set overwrite_anim = True to force\"\n",
    "            )\n",
    "            return output_anim_file\n",
    "\n",
    "        fps = 10\n",
    "        # writer = imageio.get_writer(str(output_image), fps=fps, quality=10)\n",
    "        writer = imageio.get_writer(str(output_anim_file), fps=fps)\n",
    "\n",
    "        # for dev, force to use a small number of files\n",
    "        # last_idx  = 20\n",
    "        # compute fig size so that it gets rounded to closest multiple of video macro_block_size\n",
    "        block_size = 16\n",
    "        fs_x = (math.ceil((FIGSIZE_x*dpi)/float(block_size))*block_size)/dpi\n",
    "        fs_y = (math.ceil((FIGSIZE_y*dpi)/float(block_size))*block_size)/dpi\n",
    "    \n",
    "        fig = plt.Figure(figsize=(fs_x, fs_y), dpi=dpi)\n",
    "        ax = fig.subplots(1, 1)\n",
    "    \n",
    "        #size=(VIDEO_x, int(VIDEO_x/FIGSIZE_x*FIGSIZE_y))\n",
    "        \n",
    "        args = copy.deepcopy(self.args)\n",
    "        for k, v in override_args.items():\n",
    "            if hasattr(args, k):\n",
    "                setattr(args, k, v)\n",
    "        args.pview = [plot_type]\n",
    "        \n",
    "\n",
    "        for i in range(first_idx, last_idx + 1):\n",
    "\n",
    "            print(f\"plotting: {i: 5}/{last_idx}\\r\", end=\"\")\n",
    "            \n",
    "            fig.clear()\n",
    "            ax = fig.add_subplot(111)\n",
    "            args.initial_file = [i]\n",
    "            args.last_file = [i]\n",
    "            make_plot(args, False, axis=(fig, ax))\n",
    "  \n",
    "            \n",
    "        \n",
    "            # canvas = fig.canvas\n",
    "            canvas = FigureCanvasAgg(fig)\n",
    "\n",
    "            # Option 2: Retrieve a view on the renderer buffer...\n",
    "            canvas.draw()\n",
    "            buf = canvas.buffer_rgba()\n",
    "            # ... convert to a NumPy array ...\n",
    "            X = np.asarray(buf)\n",
    "            # ... and pass it to PIL.\n",
    "            # im = Image.fromarray(X)\n",
    "\n",
    "            #import pdb; pdb.set_trace()\n",
    "            writer.append_data(X)\n",
    "\n",
    "        writer.close()\n",
    "\n",
    "        # optimize gif output\n",
    "        #optimize(str(output_image))\n",
    "\n",
    "        return output_anim_file\n",
    "\n",
    "\n",
    "\n",
    "    \n",
    "    def plot_anim(self, plotname, plotfile, first, last, override_args={}):\n",
    "        print(f\"plotting {plotname} to {plotfile}\")\n",
    "       \n",
    "        # don't show interactive plots when not asked to\n",
    "\n",
    "        output_image = self.plot_anim_steps(plotname, first_idx, last_idx, plotfile, override_args=override_args)\n",
    "\n",
    "        print(\"video \"+str(output_image))\n",
    "        #im = Image.open(output_image)\n",
    "        #return disp.Video(data=str(output_image),width=VIDEO_DISPLAY_x)\n",
    "        return disp.HTML(f\"\"\"<video alt=\"{plotname} plot\" width={VIDEO_DISPLAY_x} controls>\n",
    "                             <source src=\"{output_image}\" type=\"video/mp4\">\n",
    "                             </video>\n",
    "                             \"\"\")\n"
   ]
  },
  {
   "cell_type": "code",
   "execution_count": null,
   "metadata": {},
   "outputs": [],
   "source": [
    "# make list of possible plots, so that hamarr knows if it has to regrid\n",
    "args.pview = [\"TP\", \"spectrum\"]\n",
    "\n",
    "if regrided_plots:\n",
    "    args.pview += [\"Tver\", \"Tlonver\", \"uver\", \"Pressure\"]\n",
    "        \n",
    "if has_TSRT:\n",
    "    args.pview += [\"qheatprof\",\n",
    "                   \"qheat\",\n",
    "                   \"TSqheatprof\",\n",
    "                   \"DGqheatprof\",\n",
    "                   \"TSfutprof\",\n",
    "                   \"TSfdtprof\",\n",
    "                   \"TSfluxprof\",\n",
    "                   \"w0prof\", \n",
    "                   \"g0prof\",\n",
    "                   \"TSfdirprof\"\n",
    "                  ]\n",
    "    \n",
    "    if regrided_plots:\n",
    "        args.pview += [\"TSfuptot\", \"TSfdowntot\", \"TSfnet\"]\n",
    "    \n",
    "if plot_spectrum:\n",
    "    args.pview += ['spectrum']\n",
    "\n",
    "\n",
    "mp = multi_plotter(args)"
   ]
  },
  {
   "cell_type": "markdown",
   "metadata": {},
   "source": [
    "# Mu Star"
   ]
  },
  {
   "cell_type": "code",
   "execution_count": null,
   "metadata": {},
   "outputs": [],
   "source": [
    "f = None\n",
    "if has_TSRT:\n",
    "    f = mp.plot_steps(\"mustar\", first_idx, last_idx)\n",
    "f"
   ]
  },
  {
   "cell_type": "markdown",
   "metadata": {},
   "source": [
    "# TP Profile"
   ]
  },
  {
   "cell_type": "code",
   "execution_count": null,
   "metadata": {},
   "outputs": [],
   "source": [
    "pa = None\n",
    "if movies:\n",
    "    pa = mp.plot_anim(\"TP\", \"TP_anim.mp4\", first_idx, last_idx)\n",
    "pa"
   ]
  },
  {
   "cell_type": "code",
   "execution_count": null,
   "metadata": {},
   "outputs": [],
   "source": [
    "f = None\n",
    "if quad_plots:\n",
    "    f = mp.plot_steps(\"TP\", first_idx, last_idx)\n",
    "f"
   ]
  },
  {
   "cell_type": "code",
   "execution_count": null,
   "metadata": {},
   "outputs": [],
   "source": [
    "f = None\n",
    "if single_plot:\n",
    "    f = mp.plot_single(\"TP\", plot_index)\n",
    "f"
   ]
  },
  {
   "cell_type": "markdown",
   "metadata": {},
   "source": [
    "# Tver"
   ]
  },
  {
   "cell_type": "code",
   "execution_count": null,
   "metadata": {},
   "outputs": [],
   "source": [
    "pa = None\n",
    "if movies and regrided_plots:\n",
    "    pa = mp.plot_anim(\"Tver\", \"Tver_anim.mp4\", first_idx, last_idx)\n",
    "pa"
   ]
  },
  {
   "cell_type": "code",
   "execution_count": null,
   "metadata": {},
   "outputs": [],
   "source": [
    "f = None\n",
    "if quad_plots and regrided_plots:\n",
    "    f = mp.plot_steps(\"Tver\", first_idx, last_idx)\n",
    "f"
   ]
  },
  {
   "cell_type": "code",
   "execution_count": null,
   "metadata": {},
   "outputs": [],
   "source": [
    "f = None\n",
    "if single_plot and regrided_plots:\n",
    "    f = mp.plot_single(\"Tver\", plot_index, {\"clevels\": [nv]})\n",
    "f"
   ]
  },
  {
   "cell_type": "markdown",
   "metadata": {},
   "source": [
    "# Tlonver"
   ]
  },
  {
   "cell_type": "code",
   "execution_count": null,
   "metadata": {},
   "outputs": [],
   "source": [
    "pa = None\n",
    "if movies and regrided_plots:\n",
    "    pa = mp.plot_anim(\"Tlonver\", \"Tlonver_anim.mp4\", first_idx, last_idx)\n",
    "pa\n"
   ]
  },
  {
   "cell_type": "code",
   "execution_count": null,
   "metadata": {},
   "outputs": [],
   "source": [
    "f = None\n",
    "if regrided_plots and quad_plots:\n",
    "    f = mp.plot_steps(\"Tlonver\", first_idx, last_idx)\n",
    "f"
   ]
  },
  {
   "cell_type": "code",
   "execution_count": null,
   "metadata": {},
   "outputs": [],
   "source": [
    "f = None\n",
    "if single_plot and regrided_plots:\n",
    "    f = mp.plot_single(\"Tlonver\", plot_index)\n",
    "f"
   ]
  },
  {
   "cell_type": "markdown",
   "metadata": {},
   "source": [
    "# Zonal wind profile ulev"
   ]
  },
  {
   "cell_type": "code",
   "execution_count": null,
   "metadata": {},
   "outputs": [],
   "source": [
    "pa = None\n",
    "if movies and regrided_plots:\n",
    "    pa = mp.plot_anim(\"uver\", \"uver_anim.mp4\", first_idx, last_idx)\n",
    "pa"
   ]
  },
  {
   "cell_type": "code",
   "execution_count": null,
   "metadata": {},
   "outputs": [],
   "source": [
    "f = None\n",
    "if quad_plots and regrided_plots:\n",
    "    f = mp.plot_steps(\"uver\", first_idx, last_idx)\n",
    "f"
   ]
  },
  {
   "cell_type": "code",
   "execution_count": null,
   "metadata": {},
   "outputs": [],
   "source": [
    "f = None\n",
    "if single_plot and regrided_plots:\n",
    "    f = mp.plot_single(\"uver\", plot_index)\n",
    "f"
   ]
  },
  {
   "cell_type": "markdown",
   "metadata": {},
   "source": [
    "# Two Stream Radiative transfer"
   ]
  },
  {
   "cell_type": "code",
   "execution_count": null,
   "metadata": {},
   "outputs": [],
   "source": [
    "if has_TSRT:\n",
    "    print(\"Two Stream Radiative Transfer Enabled\")\n",
    "else:\n",
    "    print(\"Two Stream Radiative Transfer Disabled, no plots will appear in this group\")"
   ]
  },
  {
   "cell_type": "markdown",
   "metadata": {},
   "source": [
    "## Qheat"
   ]
  },
  {
   "cell_type": "markdown",
   "metadata": {},
   "source": [
    "### Horizontal qheat"
   ]
  },
  {
   "cell_type": "code",
   "execution_count": null,
   "metadata": {},
   "outputs": [],
   "source": [
    "pa = None\n",
    "if has_TSRT and movies and regrided_plots:\n",
    "    pa = mp.plot_anim(\"qheat\", \"qheat_anim.mp4\", first_idx, last_idx)\n",
    "    \n",
    "pa"
   ]
  },
  {
   "cell_type": "code",
   "execution_count": null,
   "metadata": {},
   "outputs": [],
   "source": [
    "f = None\n",
    "if has_TSRT and quad_plots and regrided_plots:\n",
    "    f = mp.plot_steps(\"qheat\", first_idx, last_idx)\n",
    "f"
   ]
  },
  {
   "cell_type": "code",
   "execution_count": null,
   "metadata": {},
   "outputs": [],
   "source": [
    "f = None\n",
    "if has_TSRT and single_plot:\n",
    "    f = mp.plot_single(\"qheat\", plot_index)\n",
    "f"
   ]
  },
  {
   "cell_type": "markdown",
   "metadata": {},
   "source": [
    "### Combined qheat\n",
    "This is the combined Qheat computed if running with Double Gray spin up transitioning to Two Streams. "
   ]
  },
  {
   "cell_type": "code",
   "execution_count": null,
   "metadata": {},
   "outputs": [],
   "source": [
    "pa = None\n",
    "if has_TSRT and movies:\n",
    "    pa = mp.plot_anim(\"qheatprof\", \"qheatprof_anim.mp4\", first_idx, last_idx)\n",
    "    \n",
    "pa"
   ]
  },
  {
   "cell_type": "code",
   "execution_count": null,
   "metadata": {},
   "outputs": [],
   "source": [
    "f = None\n",
    "if has_TSRT and quad_plots:\n",
    "    f = mp.plot_steps(\"qheatprof\", first_idx, last_idx)\n",
    "f"
   ]
  },
  {
   "cell_type": "code",
   "execution_count": null,
   "metadata": {},
   "outputs": [],
   "source": [
    "f = None\n",
    "if has_TSRT and single_plot:\n",
    "    f = mp.plot_single(\"qheatprof\", plot_index)\n",
    "f"
   ]
  },
  {
   "cell_type": "markdown",
   "metadata": {},
   "source": [
    "### Two Streams qheat"
   ]
  },
  {
   "cell_type": "code",
   "execution_count": null,
   "metadata": {},
   "outputs": [],
   "source": [
    "pa = None\n",
    "if has_TSRT and movies:\n",
    "    pa = mp.plot_anim(\"TSqheatprof\", \"TSqheatprof_anim.mp4\", first_idx, last_idx)\n",
    "    \n",
    "pa"
   ]
  },
  {
   "cell_type": "code",
   "execution_count": null,
   "metadata": {},
   "outputs": [],
   "source": [
    "f = None\n",
    "if has_TSRT and quad_plots:\n",
    "    f = mp.plot_steps(\"TSqheatprof\", first_idx, last_idx)\n",
    "f"
   ]
  },
  {
   "cell_type": "code",
   "execution_count": null,
   "metadata": {},
   "outputs": [],
   "source": [
    "f = None\n",
    "if has_TSRT and single_plot:\n",
    "    f = mp.plot_single(\"TSqheatprof\", plot_index)\n",
    "f"
   ]
  },
  {
   "cell_type": "markdown",
   "metadata": {},
   "source": [
    "## Total Upward Flux \n",
    "\n",
    "### Profile"
   ]
  },
  {
   "cell_type": "code",
   "execution_count": null,
   "metadata": {},
   "outputs": [],
   "source": [
    "pa = None\n",
    "if has_TSRT and movies:\n",
    "    pa = mp.plot_anim(\"TSfutprof\", \"futprof_anim.mp4\", first_idx, last_idx)\n",
    "\n",
    "pa"
   ]
  },
  {
   "cell_type": "code",
   "execution_count": null,
   "metadata": {},
   "outputs": [],
   "source": [
    "f = None\n",
    "if has_TSRT and quad_plots:\n",
    "    f = mp.plot_steps(\"TSfutprof\", first_idx, last_idx)\n",
    "f"
   ]
  },
  {
   "cell_type": "code",
   "execution_count": null,
   "metadata": {},
   "outputs": [],
   "source": [
    "f = None\n",
    "if has_TSRT and single_plot:\n",
    "    f = mp.plot_single(\"TSfutprof\", plot_index)\n",
    "f"
   ]
  },
  {
   "cell_type": "markdown",
   "metadata": {},
   "source": [
    "### Horizontal"
   ]
  },
  {
   "cell_type": "code",
   "execution_count": null,
   "metadata": {},
   "outputs": [],
   "source": [
    "pa = None\n",
    "\n",
    "if has_TSRT and movies and regrided_plots:\n",
    "    pa = mp.plot_anim(\"TSfuptot\", \"fuptot_anim.mp4\", first_idx, last_idx, {\"horizontal_lev\": [1e-2]})\n",
    "    \n",
    "pa"
   ]
  },
  {
   "cell_type": "code",
   "execution_count": null,
   "metadata": {},
   "outputs": [],
   "source": [
    "f = None\n",
    "if has_TSRT and quad_plots and regrided_plots:\n",
    "    f = mp.plot_steps(\"TSfuptot\", first_idx, last_idx)\n",
    "    \n",
    "f"
   ]
  },
  {
   "cell_type": "code",
   "execution_count": null,
   "metadata": {},
   "outputs": [],
   "source": [
    "f = None\n",
    "if has_TSRT and single_plot and regrided_plots:\n",
    "    f = mp.plot_single(\"TSfuptot\", plot_index)\n",
    "f"
   ]
  },
  {
   "cell_type": "markdown",
   "metadata": {},
   "source": [
    "## Total Downward Flux \n",
    "\n",
    "### Profile"
   ]
  },
  {
   "cell_type": "code",
   "execution_count": null,
   "metadata": {},
   "outputs": [],
   "source": [
    "pa = None\n",
    "if has_TSRT and movies:\n",
    "    pa = mp.plot_anim(\"TSfdtprof\", \"fdtprof_anim.mp4\", first_idx, last_idx)\n",
    "    \n",
    "pa"
   ]
  },
  {
   "cell_type": "code",
   "execution_count": null,
   "metadata": {},
   "outputs": [],
   "source": [
    "f = None\n",
    "if has_TSRT and quad_plots:\n",
    "    f = mp.plot_steps(\"TSfdtprof\", first_idx, last_idx)\n",
    "f\n"
   ]
  },
  {
   "cell_type": "code",
   "execution_count": null,
   "metadata": {},
   "outputs": [],
   "source": [
    "f = None\n",
    "if has_TSRT and single_plot:\n",
    "    f = mp.plot_single(\"TSfdtprof\", plot_index)\n",
    "f"
   ]
  },
  {
   "cell_type": "markdown",
   "metadata": {},
   "source": [
    "### Horizontal"
   ]
  },
  {
   "cell_type": "code",
   "execution_count": null,
   "metadata": {},
   "outputs": [],
   "source": [
    "pa = None\n",
    "if has_TSRT and movies and regrided_plots:\n",
    "    pa = mp.plot_anim(\"TSfdowntot\", \"fdowntot_anim.mp4\", first_idx, last_idx)\n",
    "    \n",
    "pa"
   ]
  },
  {
   "cell_type": "code",
   "execution_count": null,
   "metadata": {},
   "outputs": [],
   "source": [
    "f = None\n",
    "if has_TSRT and quad_plots and regrided_plots:\n",
    "    f = mp.plot_steps(\"TSfdowntot\", first_idx, last_idx)\n",
    "f"
   ]
  },
  {
   "cell_type": "code",
   "execution_count": null,
   "metadata": {},
   "outputs": [],
   "source": [
    "f = None\n",
    "if has_TSRT and single_plot and regrided_plots:\n",
    "    \n",
    "    f = mp.plot_single(\"TSfdowntot\", plot_index, override_args={\"horizontal_lev\": [2.5e4]})\n",
    "f"
   ]
  },
  {
   "cell_type": "markdown",
   "metadata": {},
   "source": [
    "## Total Net Flux \n",
    "\n",
    "### Profile"
   ]
  },
  {
   "cell_type": "code",
   "execution_count": null,
   "metadata": {},
   "outputs": [],
   "source": [
    "pa = None \n",
    "\n",
    "if has_TSRT and movies:\n",
    "    pa = mp.plot_anim(\"TSfluxprof\", \"fluxprof_anim.mp4\", first_idx, last_idx)\n",
    "    \n",
    "pa"
   ]
  },
  {
   "cell_type": "code",
   "execution_count": null,
   "metadata": {},
   "outputs": [],
   "source": [
    "f = None\n",
    "if has_TSRT and quad_plots:\n",
    "    f = mp.plot_steps(\"TSfluxprof\", first_idx, last_idx)\n",
    "f"
   ]
  },
  {
   "cell_type": "code",
   "execution_count": null,
   "metadata": {},
   "outputs": [],
   "source": [
    "f = None\n",
    "if has_TSRT and single_plot:\n",
    "    f = mp.plot_single(\"TSfluxprof\", plot_index)\n",
    "f"
   ]
  },
  {
   "cell_type": "markdown",
   "metadata": {},
   "source": [
    "### Horizontal"
   ]
  },
  {
   "cell_type": "code",
   "execution_count": null,
   "metadata": {},
   "outputs": [],
   "source": [
    "pa = None\n",
    "if has_TSRT and movies and regrided_plots:\n",
    "    pa = mp.plot_anim(\"TSfnet\", \"TSfnet_anim.mp4\", first_idx, last_idx)\n",
    "    \n",
    "pa"
   ]
  },
  {
   "cell_type": "code",
   "execution_count": null,
   "metadata": {},
   "outputs": [],
   "source": [
    "f = None\n",
    "if has_TSRT and quad_plots and regrided_plots:\n",
    "    f = mp.plot_steps(\"TSfnet\", first_idx, last_idx)\n",
    "f"
   ]
  },
  {
   "cell_type": "code",
   "execution_count": null,
   "metadata": {},
   "outputs": [],
   "source": [
    "f = None\n",
    "if has_TSRT and single_plot and regrided_plots:\n",
    "    f = mp.plot_single(\"TSfnet\", plot_index)\n",
    "f"
   ]
  },
  {
   "cell_type": "markdown",
   "metadata": {},
   "source": [
    "## Direct Beam Flux\n",
    "\n",
    "### Profile"
   ]
  },
  {
   "cell_type": "code",
   "execution_count": null,
   "metadata": {},
   "outputs": [],
   "source": [
    "f = None\n",
    "if has_TSRT and single_plot:\n",
    "    f = mp.plot_single(\"TSfdirprof\", plot_index)\n",
    "f"
   ]
  },
  {
   "cell_type": "markdown",
   "metadata": {},
   "source": [
    "## omega0 and g0"
   ]
  },
  {
   "cell_type": "code",
   "execution_count": null,
   "metadata": {},
   "outputs": [],
   "source": [
    "\n",
    "\n",
    "\n",
    "f = None\n",
    "if has_TSRT and single_plot and plot_w0_g0:\n",
    "    f = mp.plot_single_band(\"w0prof\", plot_index)\n",
    "f\n"
   ]
  },
  {
   "cell_type": "code",
   "execution_count": null,
   "metadata": {},
   "outputs": [],
   "source": [
    "\n",
    "f = None\n",
    "if has_TSRT and single_plot and plot_w0_g0:\n",
    "    f = mp.plot_single_band(\"g0prof\", plot_index)\n",
    "f"
   ]
  },
  {
   "cell_type": "markdown",
   "metadata": {},
   "source": [
    "## Spectrum\n",
    "\n",
    "Upward flux at TOA, incoming stellar flux envelope"
   ]
  },
  {
   "cell_type": "code",
   "execution_count": null,
   "metadata": {},
   "outputs": [],
   "source": [
    "pa = None\n",
    "if has_TSRT and movies and plot_spectrum:\n",
    "    pa = mp.plot_anim(\"spectrum\", \"spectrum_anim.mp4\", first_idx, last_idx)\n",
    "    \n",
    "pa"
   ]
  },
  {
   "cell_type": "code",
   "execution_count": null,
   "metadata": {},
   "outputs": [],
   "source": [
    "f = None\n",
    "if has_TSRT and plot_spectrum:\n",
    "    f = mp.plot_single(\"spectrum\", plot_index)\n",
    "f"
   ]
  },
  {
   "cell_type": "markdown",
   "metadata": {},
   "source": [
    "# Globals\n",
    "Simple dump of content of globals file"
   ]
  },
  {
   "cell_type": "code",
   "execution_count": null,
   "metadata": {},
   "outputs": [],
   "source": [
    "fig = None\n",
    "if plot_globals:\n",
    "    global_data = pd.read_csv(globals_file, sep='\\s+')\n",
    "    \n",
    "    fig = plt.Figure(figsize=FIGSIZE, dpi=dpi)\n",
    "    ((ax_E, ax_M, ax_ent), (ax_AMx, ax_AMy, ax_AMz), (ax_AM, ax_dummy1, ax_dummy2)) = fig.subplots(3,3)\n",
    "    ax_E.plot(global_data[\"simulation_time\"]/(3600*24), global_data[\"GlobalE_h\"])\n",
    "    ax_E.set_title(\"GlobalE\")\n",
    "    ax_E.grid(True)\n",
    "    ax_E.set_xlabel(\"Time [days]\")\n",
    "    \n",
    "    ax_M.plot(global_data[\"simulation_time\"]/(3600*24), global_data[\"GlobalMass_h\"])\n",
    "    ax_M.set_title(\"GlobalMass\")\n",
    "    ax_M.grid(True)\n",
    "    ax_M.set_xlabel(\"Time [days]\")\n",
    "    \n",
    "    ax_ent.plot(global_data[\"simulation_time\"]/(3600*24), global_data[\"GlobalEnt_h\"])\n",
    "    ax_ent.set_title(\"GlobalEnt\")\n",
    "    ax_ent.grid(True)\n",
    "    ax_ent.set_xlabel(\"Time [days]\")\n",
    "    \n",
    "    ax_AMx.plot(global_data[\"simulation_time\"]/(3600*24), global_data[\"GlobalAMx_h\"])\n",
    "    ax_AMx.set_title(\"GlobalAMx\")\n",
    "    ax_AMx.grid(True)\n",
    "    ax_AMx.set_xlabel(\"Time [days]\")\n",
    "    \n",
    "    ax_AMy.plot(global_data[\"simulation_time\"]/(3600*24), global_data[\"GlobalAMy_h\"])\n",
    "    ax_AMy.set_title(\"GlobalAMy\")\n",
    "    ax_AMy.grid(True)\n",
    "    ax_AMy.set_xlabel(\"Time [days]\")\n",
    "    \n",
    "    ax_AMz.plot(global_data[\"simulation_time\"]/(3600*24), global_data[\"GlobalAMz_h\"])\n",
    "    ax_AMz.set_title(\"GlobalAMz\")\n",
    "    ax_AMz.grid(True)\n",
    "    ax_AMz.set_xlabel(\"Time [days]\")\n",
    "    \n",
    "    ax_AM.plot(global_data[\"simulation_time\"]/(3600*24), np.sqrt(np.power(global_data[\"GlobalAMx_h\"],2.0) + np.power(global_data[\"GlobalAMy_h\"],2.0) + np.power(global_data[\"GlobalAMz_h\"],2.0)) )\n",
    "    ax_AM.set_title(\"GlobalAM\")\n",
    "    ax_AM.grid(True)\n",
    "    ax_AM.set_xlabel(\"Time [days]\")\n",
    "    \n",
    "    ax_dummy1.set_visible(False)\n",
    "    ax_dummy2.set_visible(False)\n",
    "fig"
   ]
  },
  {
   "cell_type": "markdown",
   "metadata": {},
   "source": [
    "# Diagnostics"
   ]
  },
  {
   "cell_type": "code",
   "execution_count": null,
   "metadata": {},
   "outputs": [],
   "source": [
    "fig = None\n",
    "if plot_diagnostics:\n",
    "    diagnostics_data = pd.read_csv(diagnostics_file, sep='\\s+')\n",
    "    \n",
    "    fig = plt.Figure(figsize=FIGSIZE, dpi=dpi)\n",
    "    ((ax_time), (ax_mean_per_step)) = fig.subplots(2,1)\n",
    "    ax_time.plot(diagnostics_data['#current_step'], diagnostics_data['elapsed_time'])\n",
    "    ax_time.grid(True)\n",
    "    ax_time.set_xlabel(\"step #\")\n",
    "    ax_time.set_ylabel(\"time [s]\")\n",
    "    ax_time.set_title(\"elapsed time since start [s]\")\n",
    "    \n",
    "    ax_mean_per_step.plot(diagnostics_data['#current_step'], diagnostics_data['mean_delta_per_step'])\n",
    "    ax_mean_per_step.grid(True)\n",
    "    ax_mean_per_step.set_xlabel(\"step #\")\n",
    "    ax_mean_per_step.set_ylabel(\"delta time [s]\")\n",
    "    ax_mean_per_step.set_title(\"mean estimated time per step [s]\")\n",
    "    \n",
    "\n",
    "    \n",
    "    \n",
    "fig "
   ]
  },
  {
   "cell_type": "markdown",
   "metadata": {},
   "source": [
    "## Timing info"
   ]
  },
  {
   "cell_type": "code",
   "execution_count": null,
   "metadata": {},
   "outputs": [],
   "source": [
    "stop = datetime.now()\n",
    "\n",
    "delta = stop - start\n",
    "\n",
    "print(f\"Ran plotting script in {delta}\")"
   ]
  },
  {
   "cell_type": "code",
   "execution_count": null,
   "metadata": {},
   "outputs": [],
   "source": []
  },
  {
   "cell_type": "code",
   "execution_count": null,
   "metadata": {},
   "outputs": [],
   "source": []
  }
 ],
 "metadata": {
  "language_info": {
   "name": "python",
   "pygments_lexer": "ipython3"
  }
 },
 "nbformat": 4,
 "nbformat_minor": 4
}
